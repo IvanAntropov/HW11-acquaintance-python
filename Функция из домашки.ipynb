{
 "cells": [
  {
   "cell_type": "code",
   "execution_count": null,
   "id": "2896922a",
   "metadata": {},
   "outputs": [],
   "source": [
    "f(x) = -12x^4*sin(cos(x)) - 18x^3+5x^2 + 10x - 30\n",
    "\n",
    "Определить корни\n",
    "\n",
    "Найти интервалы, на которых функция возрастает\n",
    "\n",
    "Найти интервалы, на которых функция убывает\n",
    "\n",
    "Построить график\n",
    "\n",
    "Вычислить вершину\n",
    "\n",
    "Определить промежутки, на котором f > 0\n",
    "\n",
    "Определить промежутки, на котором f < 0"
   ]
  },
  {
   "cell_type": "markdown",
   "id": "e2b46f9b",
   "metadata": {},
   "source": [
    "# ReadME\n",
    "\n",
    "Самая некрасивая функция на свете, не представляю как ее решать помимо спец библиотек, и то те выдают сумашедшие ответы на несколько страниц. А так же из-за cos,sin получился бесконечный на интервалы график, без вершины, с бесконечными промежутками y<0 и y>0.\n",
    "\n",
    "\n",
    "Сама функция не хочет строится из-за sin(cos(x)) с помощью matplotlib, а лезть глубоко не охото, так же sympy не хочет искать корни уравнения опять таки из-за sin(cos(x)). "
   ]
  },
  {
   "cell_type": "markdown",
   "id": "0985fd24",
   "metadata": {},
   "source": [
    "# Поиск корней функции:\n"
   ]
  },
  {
   "cell_type": "code",
   "execution_count": null,
   "id": "1f7914c3",
   "metadata": {},
   "outputs": [],
   "source": [
    "from math import *\n",
    "from cmath import *\n",
    "from sympy import *\n",
    "\n",
    "\n",
    "x=Symbol('x')\n",
    "result = solve([-12*x**4*sin(cos(x)) - 18*x**3+5*x**2 + 10*x - 30],[x])\n",
    "print(result)\n",
    "\n",
    "#Тут поидее list с ответами т.е\n",
    "# x1 = list[0][1]\n",
    "# x2= list[1][1] и т.д.\n",
    "\n"
   ]
  },
  {
   "cell_type": "markdown",
   "id": "26abc19e",
   "metadata": {},
   "source": [
    "# График функции:"
   ]
  },
  {
   "cell_type": "code",
   "execution_count": null,
   "id": "7c693665",
   "metadata": {},
   "outputs": [],
   "source": [
    "from math import *\n",
    "from cmath import *\n",
    "import matplotlib.pyplot as plt\n",
    "import numpy as np\n",
    "\n",
    "\n",
    "x = np.arange(-100,100)\n",
    "plt.plot(x,-12*x**4*sin(cos(x)) - 18*x**3+5*x**2 + 10*x - 30)\n",
    "plt.show()\n",
    "\n",
    "#Тут поидее строим график"
   ]
  },
  {
   "cell_type": "markdown",
   "id": "3c41414a",
   "metadata": {},
   "source": [
    "# Интервалы возрастания функции:"
   ]
  },
  {
   "cell_type": "code",
   "execution_count": null,
   "id": "88007e2a",
   "metadata": {},
   "outputs": [],
   "source": [
    "#Тут поидее, бесконечное кол-во интервалов возрастания"
   ]
  },
  {
   "cell_type": "markdown",
   "id": "5099a1b8",
   "metadata": {},
   "source": [
    "# Интервалы убывания функции:"
   ]
  },
  {
   "cell_type": "code",
   "execution_count": null,
   "id": "dad3184a",
   "metadata": {},
   "outputs": [],
   "source": [
    "#Тут поидее, бесконечное кол-во интервалов убывания"
   ]
  },
  {
   "cell_type": "markdown",
   "id": "324663f7",
   "metadata": {},
   "source": [
    "# Вершина функции:"
   ]
  },
  {
   "cell_type": "code",
   "execution_count": null,
   "id": "e1b8c9b0",
   "metadata": {},
   "outputs": [],
   "source": [
    "#Вершины нет"
   ]
  },
  {
   "cell_type": "markdown",
   "id": "55c44ec3",
   "metadata": {},
   "source": [
    "# Промежутки, на которых f > 0:"
   ]
  },
  {
   "cell_type": "code",
   "execution_count": null,
   "id": "4d66aa9e",
   "metadata": {},
   "outputs": [],
   "source": [
    "#бесконечное кол-во"
   ]
  },
  {
   "cell_type": "markdown",
   "id": "038eff88",
   "metadata": {},
   "source": [
    "# Промежутки, на которых f < 0:"
   ]
  },
  {
   "cell_type": "code",
   "execution_count": null,
   "id": "34680695",
   "metadata": {},
   "outputs": [],
   "source": [
    "#бесконечное кол-во"
   ]
  }
 ],
 "metadata": {
  "kernelspec": {
   "display_name": "Python 3 (ipykernel)",
   "language": "python",
   "name": "python3"
  },
  "language_info": {
   "codemirror_mode": {
    "name": "ipython",
    "version": 3
   },
   "file_extension": ".py",
   "mimetype": "text/x-python",
   "name": "python",
   "nbconvert_exporter": "python",
   "pygments_lexer": "ipython3",
   "version": "3.9.12"
  }
 },
 "nbformat": 4,
 "nbformat_minor": 5
}
